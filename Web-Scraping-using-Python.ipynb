{
 "cells": [
  {
   "cell_type": "markdown",
   "metadata": {},
   "source": [
    "# Web Scraping using Python\n",
    "\n",
    "## Table of Contents\n",
    "* [Introduction](#Introduction)\n",
    "* [Scraping of Weather Data](#Scraping)\n",
    "    * [Weather Forecasting Data for Single City](#Single)\n",
    "    * [Weather Forecasting Data for Multiple Cities](#Multiple)\n",
    "* [Preprocessing and Visualizing the Data](#PreAndViz)\n",
    "* [Conclusion](#Conclusion)\n",
    "* [References](#References)\n",
    "\n",
    "<a name=\"Introduction\"></a>\n",
    "## Introduction\n",
    "\n",
    "Web Scraping is an important way of collecting data from the web. There are different types of data that are displayed systematically by web browsers. The data usually contains:\n",
    "\n",
    "* HTML tags\n",
    "* CSS styles\n",
    "* javascript codes\n",
    "* Images and other multimedia data\n",
    "\n",
    "The documents in a web are organized in html tags. So, we can systematically scrape the needed data once we inspect its structure. In this post, I am going to show how to scrape weather forecasting data from [National Weather Service](http://forecast.weather.gov).\n",
    "\n",
    "As an example in this post, we are going to select some of the most populous cities in the US. Then based on their location (latitutudes and longitudes), we will extract their corresponding weather data from the web site.\n",
    "\n",
    "Once they extracted, we will structure the data and save in pandas data frames. Then, we will apply some preprocessing steps.\n",
    "\n",
    "Finally we will visualize the data using some pythn visualization packages such as seaborn. The post is inspired by the post [here](https://www.dataquest.io/blog/web-scraping-tutorial-python/)"
   ]
  },
  {
   "cell_type": "markdown",
   "metadata": {},
   "source": [
    "<a name=\"Scraping\"></a>\n",
    "## Scraping of Weather Data"
   ]
  },
  {
   "cell_type": "markdown",
   "metadata": {},
   "source": [
    "<a name=\"Single\"></a>\n",
    "### * Weather Forecasting Data for Single City*"
   ]
  },
  {
   "cell_type": "markdown",
   "metadata": {},
   "source": [
    "As a first step in scraping web data, we have to open the page on a browser and inspect how the data is structured. As an example, let's open the website and display weather data for one city, e.g., [Miami](http://forecast.weather.gov/MapClick.php?lat=25.7748&lon=-80.1977)."
   ]
  },
  {
   "cell_type": "markdown",
   "metadata": {},
   "source": [
    "In this example, we are going to use google chrome to open the web page. After you open it, go to developer tools to inspect the structure of the page. Here, we are concerned only on the extended forecast data."
   ]
  },
  {
   "cell_type": "markdown",
   "metadata": {},
   "source": [
    "First let's import the necessary libraries"
   ]
  },
  {
   "cell_type": "code",
   "execution_count": 1,
   "metadata": {},
   "outputs": [],
   "source": [
    "import requests\n",
    "from bs4 import BeautifulSoup\n",
    "\n",
    "import pandas as pd\n",
    "import matplotlib.pyplot as plt\n",
    "%matplotlib inline\n",
    "import seaborn as sns"
   ]
  },
  {
   "cell_type": "markdown",
   "metadata": {},
   "source": [
    "**requests** package is used to download the data from a URL. **BeautifulSoup** is a package to select part of the downloaded data that is necessary for our analysis."
   ]
  },
  {
   "cell_type": "markdown",
   "metadata": {},
   "source": [
    "Download the Miami weather data"
   ]
  },
  {
   "cell_type": "code",
   "execution_count": 2,
   "metadata": {},
   "outputs": [],
   "source": [
    "# Get dat\n",
    "URL = (\"http://forecast.weather.gov/MapClick.php?lat=25.7748&lon=-80.1977\")\n",
    "page = requests.get(URL)"
   ]
  },
  {
   "cell_type": "markdown",
   "metadata": {},
   "source": [
    "Parse the content with BeautifulSoup and extract the seven day forecast. It will then find all the items (seven days). Finally one item is displayed."
   ]
  },
  {
   "cell_type": "code",
   "execution_count": 3,
   "metadata": {},
   "outputs": [
    {
     "name": "stdout",
     "output_type": "stream",
     "text": [
      "<div class=\"tombstone-container\">\n",
      " <p class=\"period-name\">\n",
      "  This\n",
      "  <br/>\n",
      "  Afternoon\n",
      " </p>\n",
      " <p>\n",
      "  <img alt=\"This Afternoon: Showers and thunderstorms likely, mainly after 5pm.  Mostly sunny, with a high near 90. Southeast wind 7 to 10 mph.  Chance of precipitation is 60%. New rainfall amounts of less than a tenth of an inch, except higher amounts possible in thunderstorms. \" class=\"forecast-icon\" src=\"newimages/medium/hi_tsra60.png\" title=\"This Afternoon: Showers and thunderstorms likely, mainly after 5pm.  Mostly sunny, with a high near 90. Southeast wind 7 to 10 mph.  Chance of precipitation is 60%. New rainfall amounts of less than a tenth of an inch, except higher amounts possible in thunderstorms. \"/>\n",
      " </p>\n",
      " <p class=\"short-desc\">\n",
      "  T-storms\n",
      "  <br/>\n",
      "  Likely\n",
      " </p>\n",
      " <p class=\"temp temp-high\">\n",
      "  High: 90 °F\n",
      " </p>\n",
      "</div>\n"
     ]
    }
   ],
   "source": [
    "soup = BeautifulSoup(page.content, 'html.parser')\n",
    "seven_day = soup.find(id=\"seven-day-forecast\")\n",
    "forecast_items = seven_day.find_all(class_=\"tombstone-container\")\n",
    "first = forecast_items[0]\n",
    "print(first.prettify())"
   ]
  },
  {
   "cell_type": "markdown",
   "metadata": {},
   "source": [
    "From the above data, we can see that the information is organized in different html tags and classes/ids. Now, let's separate the data based on their classes for the selected item."
   ]
  },
  {
   "cell_type": "code",
   "execution_count": 4,
   "metadata": {},
   "outputs": [
    {
     "name": "stdout",
     "output_type": "stream",
     "text": [
      "ThisAfternoon\n",
      "T-stormsLikely\n",
      "High: 90 °F\n"
     ]
    }
   ],
   "source": [
    "period = first.find(class_=\"period-name\").get_text()\n",
    "short_desc = first.find(class_=\"short-desc\").get_text()\n",
    "temp = first.find(class_=\"temp\").get_text()\n",
    "\n",
    "print(period)\n",
    "print(short_desc)\n",
    "print(temp)"
   ]
  },
  {
   "cell_type": "markdown",
   "metadata": {},
   "source": [
    "Extract the description of the item's weather using img tag. The description is then saved in \"title\" value "
   ]
  },
  {
   "cell_type": "code",
   "execution_count": 5,
   "metadata": {},
   "outputs": [
    {
     "name": "stdout",
     "output_type": "stream",
     "text": [
      "This Afternoon: Showers and thunderstorms likely, mainly after 5pm.  Mostly sunny, with a high near 90. Southeast wind 7 to 10 mph.  Chance of precipitation is 60%. New rainfall amounts of less than a tenth of an inch, except higher amounts possible in thunderstorms. \n"
     ]
    }
   ],
   "source": [
    "img = first.find(\"img\")\n",
    "desc = img['title']\n",
    "print(desc)"
   ]
  },
  {
   "cell_type": "markdown",
   "metadata": {},
   "source": [
    "Now let's find the periods of weather forecasting data"
   ]
  },
  {
   "cell_type": "code",
   "execution_count": 6,
   "metadata": {},
   "outputs": [
    {
     "data": {
      "text/plain": [
       "[u'ThisAfternoon',\n",
       " u'Tonight',\n",
       " u'Saturday',\n",
       " u'SaturdayNight',\n",
       " u'Sunday',\n",
       " u'SundayNight',\n",
       " u'Monday',\n",
       " u'MondayNight',\n",
       " u'Tuesday']"
      ]
     },
     "execution_count": 6,
     "metadata": {},
     "output_type": "execute_result"
    }
   ],
   "source": [
    "period_tags = seven_day.select(\".tombstone-container .period-name\")\n",
    "periods = [pt.get_text() for pt in period_tags]\n",
    "periods"
   ]
  },
  {
   "cell_type": "markdown",
   "metadata": {},
   "source": [
    "So, we have already seen the data for a singl city. Now let's extract the forcasting data for multiple cities and futher process the data."
   ]
  },
  {
   "cell_type": "markdown",
   "metadata": {},
   "source": [
    "<a name=\"Multiple\"></a>\n",
    "### *Weather Forecasting Data for Multiple Cities*"
   ]
  },
  {
   "cell_type": "markdown",
   "metadata": {},
   "source": [
    "Let's now prepare the lists of cities and their corresponding locations. N.B. Locations can be taken from the weather data website."
   ]
  },
  {
   "cell_type": "code",
   "execution_count": 7,
   "metadata": {},
   "outputs": [],
   "source": [
    "cities = ['New York', 'Los Angeles', 'Chicago', 'Houston', 'Phoenix', 'Philadelphia', 'San Antonio', 'San Diego', 'Dallas', 'San Jose']\n",
    "lats = [40.7146, 34.0535, 41.8843, 29.7606, 33.4483, 39.9522, 29.4246, 32.7157, 32.7782, 37.3387]\n",
    "lons = [-74.0071, -118.2453, -87.6324, -95.3697, -112.0758, -75.1622, -98.4946, -117.1617, -96.7954, -121.8854]"
   ]
  },
  {
   "cell_type": "markdown",
   "metadata": {},
   "source": [
    "Now, we will download the data for each city and save the necessary information"
   ]
  },
  {
   "cell_type": "code",
   "execution_count": 8,
   "metadata": {},
   "outputs": [
    {
     "name": "stdout",
     "output_type": "stream",
     "text": [
      "Extracting data of: New York\n",
      "Extracting data of: Los Angeles\n",
      "Extracting data of: Chicago\n",
      "Extracting data of: Houston\n",
      "Extracting data of: Phoenix\n",
      "Extracting data of: Philadelphia\n",
      "Extracting data of: San Antonio\n",
      "Extracting data of: San Diego\n",
      "Extracting data of: Dallas\n",
      "Extracting data of: San Jose\n"
     ]
    }
   ],
   "source": [
    "n_cities = len(cities)\n",
    "\n",
    "periods = None\n",
    "all_temps = []\n",
    "\n",
    "for i in range(n_cities):\n",
    "    print('Extracting data of: %s' % cities[i])\n",
    "    URL = \"http://forecast.weather.gov/MapClick.php?lat=\" + str(lats[i]) + \"&lon=\" + str(lons[i])\n",
    "    page = requests.get(URL)\n",
    "    soup = BeautifulSoup(page.content, 'html.parser')\n",
    "    seven_day = soup.find(id=\"seven-day-forecast\")\n",
    "    forecast_items = seven_day.find_all(class_=\"tombstone-container\")\n",
    "    period_tags = seven_day.select(\".tombstone-container .period-name\")\n",
    "\n",
    "    #Let's save only the periods and their corresponding temperatures\n",
    "    periods = [pt.get_text() for pt in period_tags]\n",
    "    #short_descs = [sd.get_text() for sd in seven_day.select(\".tombstone-container .short-desc\")]\n",
    "    temps = [t.get_text() for t in seven_day.select(\".tombstone-container .temp\")]\n",
    "    #descs = [d[\"title\"] for d in seven_day.select(\".tombstone-container img\")]\n",
    "    \n",
    "    all_temps.append(temps)"
   ]
  },
  {
   "cell_type": "markdown",
   "metadata": {},
   "source": [
    "Let's now create create a pandas dataframe and save the temperature data."
   ]
  },
  {
   "cell_type": "code",
   "execution_count": 9,
   "metadata": {},
   "outputs": [
    {
     "name": "stdout",
     "output_type": "stream",
     "text": [
      "(10, 9)\n"
     ]
    },
    {
     "data": {
      "text/html": [
       "<div>\n",
       "<style>\n",
       "    .dataframe thead tr:only-child th {\n",
       "        text-align: right;\n",
       "    }\n",
       "\n",
       "    .dataframe thead th {\n",
       "        text-align: left;\n",
       "    }\n",
       "\n",
       "    .dataframe tbody tr th {\n",
       "        vertical-align: top;\n",
       "    }\n",
       "</style>\n",
       "<table border=\"1\" class=\"dataframe\">\n",
       "  <thead>\n",
       "    <tr style=\"text-align: right;\">\n",
       "      <th></th>\n",
       "      <th>Today</th>\n",
       "      <th>Tonight</th>\n",
       "      <th>Saturday</th>\n",
       "      <th>SaturdayNight</th>\n",
       "      <th>Sunday</th>\n",
       "      <th>SundayNight</th>\n",
       "      <th>Monday</th>\n",
       "      <th>MondayNight</th>\n",
       "      <th>Tuesday</th>\n",
       "    </tr>\n",
       "  </thead>\n",
       "  <tbody>\n",
       "    <tr>\n",
       "      <th>New York</th>\n",
       "      <td>High: 83 °F</td>\n",
       "      <td>Low: 67 °F</td>\n",
       "      <td>High: 74 °F</td>\n",
       "      <td>Low: 62 °F</td>\n",
       "      <td>High: 80 °F</td>\n",
       "      <td>Low: 66 °F</td>\n",
       "      <td>High: 77 °F</td>\n",
       "      <td>Low: 67 °F</td>\n",
       "      <td>High: 83 °F</td>\n",
       "    </tr>\n",
       "    <tr>\n",
       "      <th>Los Angeles</th>\n",
       "      <td>High: 83 °F</td>\n",
       "      <td>Low: 67 °F</td>\n",
       "      <td>High: 82 °F</td>\n",
       "      <td>Low: 67 °F</td>\n",
       "      <td>High: 82 °F</td>\n",
       "      <td>Low: 67 °F</td>\n",
       "      <td>High: 83 °F</td>\n",
       "      <td>Low: 68 °F</td>\n",
       "      <td>High: 85 °F</td>\n",
       "    </tr>\n",
       "    <tr>\n",
       "      <th>Chicago</th>\n",
       "      <td>High: 75 °F</td>\n",
       "      <td>Low: 65 °F</td>\n",
       "      <td>High: 76 °F</td>\n",
       "      <td>Low: 66 °F</td>\n",
       "      <td>High: 78 °F</td>\n",
       "      <td>Low: 67 °F</td>\n",
       "      <td>High: 80 °F</td>\n",
       "      <td>Low: 69 °F</td>\n",
       "      <td>High: 86 °F</td>\n",
       "    </tr>\n",
       "    <tr>\n",
       "      <th>Houston</th>\n",
       "      <td>High: 98 °F</td>\n",
       "      <td>Low: 79 °F</td>\n",
       "      <td>High: 99 °F</td>\n",
       "      <td>Low: 79 °F</td>\n",
       "      <td>High: 96 °F</td>\n",
       "      <td>Low: 77 °F</td>\n",
       "      <td>High: 95 °F</td>\n",
       "      <td>Low: 76 °F</td>\n",
       "      <td>High: 94 °F</td>\n",
       "    </tr>\n",
       "    <tr>\n",
       "      <th>Phoenix</th>\n",
       "      <td>High: 101 °F</td>\n",
       "      <td>Low: 83 °F</td>\n",
       "      <td>High: 99 °F</td>\n",
       "      <td>Low: 80 °F</td>\n",
       "      <td>High: 99 °F</td>\n",
       "      <td>Low: 84 °F</td>\n",
       "      <td>High: 103 °F</td>\n",
       "      <td>Low: 85 °F</td>\n",
       "      <td>High: 105 °F</td>\n",
       "    </tr>\n",
       "  </tbody>\n",
       "</table>\n",
       "</div>"
      ],
      "text/plain": [
       "                    Today     Tonight     Saturday SaturdayNight       Sunday  \\\n",
       "New York      High: 83 °F  Low: 67 °F  High: 74 °F    Low: 62 °F  High: 80 °F   \n",
       "Los Angeles   High: 83 °F  Low: 67 °F  High: 82 °F    Low: 67 °F  High: 82 °F   \n",
       "Chicago       High: 75 °F  Low: 65 °F  High: 76 °F    Low: 66 °F  High: 78 °F   \n",
       "Houston       High: 98 °F  Low: 79 °F  High: 99 °F    Low: 79 °F  High: 96 °F   \n",
       "Phoenix      High: 101 °F  Low: 83 °F  High: 99 °F    Low: 80 °F  High: 99 °F   \n",
       "\n",
       "            SundayNight        Monday MondayNight       Tuesday  \n",
       "New York     Low: 66 °F   High: 77 °F  Low: 67 °F   High: 83 °F  \n",
       "Los Angeles  Low: 67 °F   High: 83 °F  Low: 68 °F   High: 85 °F  \n",
       "Chicago      Low: 67 °F   High: 80 °F  Low: 69 °F   High: 86 °F  \n",
       "Houston      Low: 77 °F   High: 95 °F  Low: 76 °F   High: 94 °F  \n",
       "Phoenix      Low: 84 °F  High: 103 °F  Low: 85 °F  High: 105 °F  "
      ]
     },
     "execution_count": 9,
     "metadata": {},
     "output_type": "execute_result"
    }
   ],
   "source": [
    "weather = pd.DataFrame(data=all_temps, index=cities, columns=periods)\n",
    "print(weather.shape)\n",
    "weather.head()"
   ]
  },
  {
   "cell_type": "markdown",
   "metadata": {},
   "source": [
    "<a name=\"PreAndViz\"></a>\n",
    "## Preprocessing and Visualizing the Data"
   ]
  },
  {
   "cell_type": "markdown",
   "metadata": {},
   "source": [
    "Now, we will only take the numerical temperature values to be used for further processing."
   ]
  },
  {
   "cell_type": "code",
   "execution_count": 10,
   "metadata": {},
   "outputs": [
    {
     "data": {
      "text/html": [
       "<div>\n",
       "<style>\n",
       "    .dataframe thead tr:only-child th {\n",
       "        text-align: right;\n",
       "    }\n",
       "\n",
       "    .dataframe thead th {\n",
       "        text-align: left;\n",
       "    }\n",
       "\n",
       "    .dataframe tbody tr th {\n",
       "        vertical-align: top;\n",
       "    }\n",
       "</style>\n",
       "<table border=\"1\" class=\"dataframe\">\n",
       "  <thead>\n",
       "    <tr style=\"text-align: right;\">\n",
       "      <th></th>\n",
       "      <th>Today</th>\n",
       "      <th>Tonight</th>\n",
       "      <th>Saturday</th>\n",
       "      <th>SaturdayNight</th>\n",
       "      <th>Sunday</th>\n",
       "      <th>SundayNight</th>\n",
       "      <th>Monday</th>\n",
       "      <th>MondayNight</th>\n",
       "      <th>Tuesday</th>\n",
       "    </tr>\n",
       "  </thead>\n",
       "  <tbody>\n",
       "    <tr>\n",
       "      <th>New York</th>\n",
       "      <td>83.0</td>\n",
       "      <td>67.0</td>\n",
       "      <td>74.0</td>\n",
       "      <td>62.0</td>\n",
       "      <td>80.0</td>\n",
       "      <td>66.0</td>\n",
       "      <td>77.0</td>\n",
       "      <td>67.0</td>\n",
       "      <td>83.0</td>\n",
       "    </tr>\n",
       "    <tr>\n",
       "      <th>Los Angeles</th>\n",
       "      <td>83.0</td>\n",
       "      <td>67.0</td>\n",
       "      <td>82.0</td>\n",
       "      <td>67.0</td>\n",
       "      <td>82.0</td>\n",
       "      <td>67.0</td>\n",
       "      <td>83.0</td>\n",
       "      <td>68.0</td>\n",
       "      <td>85.0</td>\n",
       "    </tr>\n",
       "    <tr>\n",
       "      <th>Chicago</th>\n",
       "      <td>75.0</td>\n",
       "      <td>65.0</td>\n",
       "      <td>76.0</td>\n",
       "      <td>66.0</td>\n",
       "      <td>78.0</td>\n",
       "      <td>67.0</td>\n",
       "      <td>80.0</td>\n",
       "      <td>69.0</td>\n",
       "      <td>86.0</td>\n",
       "    </tr>\n",
       "    <tr>\n",
       "      <th>Houston</th>\n",
       "      <td>98.0</td>\n",
       "      <td>79.0</td>\n",
       "      <td>99.0</td>\n",
       "      <td>79.0</td>\n",
       "      <td>96.0</td>\n",
       "      <td>77.0</td>\n",
       "      <td>95.0</td>\n",
       "      <td>76.0</td>\n",
       "      <td>94.0</td>\n",
       "    </tr>\n",
       "    <tr>\n",
       "      <th>Phoenix</th>\n",
       "      <td>101.0</td>\n",
       "      <td>83.0</td>\n",
       "      <td>99.0</td>\n",
       "      <td>80.0</td>\n",
       "      <td>99.0</td>\n",
       "      <td>84.0</td>\n",
       "      <td>103.0</td>\n",
       "      <td>85.0</td>\n",
       "      <td>105.0</td>\n",
       "    </tr>\n",
       "  </tbody>\n",
       "</table>\n",
       "</div>"
      ],
      "text/plain": [
       "             Today  Tonight  Saturday  SaturdayNight  Sunday  SundayNight  \\\n",
       "New York      83.0     67.0      74.0           62.0    80.0         66.0   \n",
       "Los Angeles   83.0     67.0      82.0           67.0    82.0         67.0   \n",
       "Chicago       75.0     65.0      76.0           66.0    78.0         67.0   \n",
       "Houston       98.0     79.0      99.0           79.0    96.0         77.0   \n",
       "Phoenix      101.0     83.0      99.0           80.0    99.0         84.0   \n",
       "\n",
       "             Monday  MondayNight  Tuesday  \n",
       "New York       77.0         67.0     83.0  \n",
       "Los Angeles    83.0         68.0     85.0  \n",
       "Chicago        80.0         69.0     86.0  \n",
       "Houston        95.0         76.0     94.0  \n",
       "Phoenix       103.0         85.0    105.0  "
      ]
     },
     "execution_count": 10,
     "metadata": {},
     "output_type": "execute_result"
    }
   ],
   "source": [
    "#Extract the numberical value of the temperature\n",
    "for period in periods:\n",
    "    weather[period] = weather[period].str.extract(\"(?P<temp_num>\\d+)\", expand=False)\n",
    "    weather[period] = weather[period].astype('float')\n",
    "weather.head()"
   ]
  },
  {
   "cell_type": "markdown",
   "metadata": {},
   "source": [
    "We will now transpose the dataframe to enable us visualize temperature data for each city."
   ]
  },
  {
   "cell_type": "code",
   "execution_count": 11,
   "metadata": {},
   "outputs": [
    {
     "data": {
      "text/html": [
       "<div>\n",
       "<style>\n",
       "    .dataframe thead tr:only-child th {\n",
       "        text-align: right;\n",
       "    }\n",
       "\n",
       "    .dataframe thead th {\n",
       "        text-align: left;\n",
       "    }\n",
       "\n",
       "    .dataframe tbody tr th {\n",
       "        vertical-align: top;\n",
       "    }\n",
       "</style>\n",
       "<table border=\"1\" class=\"dataframe\">\n",
       "  <thead>\n",
       "    <tr style=\"text-align: right;\">\n",
       "      <th></th>\n",
       "      <th>New York</th>\n",
       "      <th>Los Angeles</th>\n",
       "      <th>Chicago</th>\n",
       "      <th>Houston</th>\n",
       "      <th>Phoenix</th>\n",
       "      <th>Philadelphia</th>\n",
       "      <th>San Antonio</th>\n",
       "      <th>San Diego</th>\n",
       "      <th>Dallas</th>\n",
       "      <th>San Jose</th>\n",
       "    </tr>\n",
       "  </thead>\n",
       "  <tbody>\n",
       "    <tr>\n",
       "      <th>Today</th>\n",
       "      <td>83.0</td>\n",
       "      <td>83.0</td>\n",
       "      <td>75.0</td>\n",
       "      <td>98.0</td>\n",
       "      <td>101.0</td>\n",
       "      <td>85.0</td>\n",
       "      <td>102.0</td>\n",
       "      <td>76.0</td>\n",
       "      <td>102.0</td>\n",
       "      <td>90.0</td>\n",
       "    </tr>\n",
       "    <tr>\n",
       "      <th>Tonight</th>\n",
       "      <td>67.0</td>\n",
       "      <td>67.0</td>\n",
       "      <td>65.0</td>\n",
       "      <td>79.0</td>\n",
       "      <td>83.0</td>\n",
       "      <td>69.0</td>\n",
       "      <td>76.0</td>\n",
       "      <td>68.0</td>\n",
       "      <td>80.0</td>\n",
       "      <td>59.0</td>\n",
       "    </tr>\n",
       "    <tr>\n",
       "      <th>Saturday</th>\n",
       "      <td>74.0</td>\n",
       "      <td>82.0</td>\n",
       "      <td>76.0</td>\n",
       "      <td>99.0</td>\n",
       "      <td>99.0</td>\n",
       "      <td>73.0</td>\n",
       "      <td>103.0</td>\n",
       "      <td>76.0</td>\n",
       "      <td>97.0</td>\n",
       "      <td>87.0</td>\n",
       "    </tr>\n",
       "    <tr>\n",
       "      <th>SaturdayNight</th>\n",
       "      <td>62.0</td>\n",
       "      <td>67.0</td>\n",
       "      <td>66.0</td>\n",
       "      <td>79.0</td>\n",
       "      <td>80.0</td>\n",
       "      <td>63.0</td>\n",
       "      <td>78.0</td>\n",
       "      <td>67.0</td>\n",
       "      <td>77.0</td>\n",
       "      <td>59.0</td>\n",
       "    </tr>\n",
       "    <tr>\n",
       "      <th>Sunday</th>\n",
       "      <td>80.0</td>\n",
       "      <td>82.0</td>\n",
       "      <td>78.0</td>\n",
       "      <td>96.0</td>\n",
       "      <td>99.0</td>\n",
       "      <td>79.0</td>\n",
       "      <td>100.0</td>\n",
       "      <td>77.0</td>\n",
       "      <td>94.0</td>\n",
       "      <td>90.0</td>\n",
       "    </tr>\n",
       "  </tbody>\n",
       "</table>\n",
       "</div>"
      ],
      "text/plain": [
       "               New York  Los Angeles  Chicago  Houston  Phoenix  Philadelphia  \\\n",
       "Today              83.0         83.0     75.0     98.0    101.0          85.0   \n",
       "Tonight            67.0         67.0     65.0     79.0     83.0          69.0   \n",
       "Saturday           74.0         82.0     76.0     99.0     99.0          73.0   \n",
       "SaturdayNight      62.0         67.0     66.0     79.0     80.0          63.0   \n",
       "Sunday             80.0         82.0     78.0     96.0     99.0          79.0   \n",
       "\n",
       "               San Antonio  San Diego  Dallas  San Jose  \n",
       "Today                102.0       76.0   102.0      90.0  \n",
       "Tonight               76.0       68.0    80.0      59.0  \n",
       "Saturday             103.0       76.0    97.0      87.0  \n",
       "SaturdayNight         78.0       67.0    77.0      59.0  \n",
       "Sunday               100.0       77.0    94.0      90.0  "
      ]
     },
     "execution_count": 11,
     "metadata": {},
     "output_type": "execute_result"
    }
   ],
   "source": [
    "weather = weather.T\n",
    "weather.head()"
   ]
  },
  {
   "cell_type": "markdown",
   "metadata": {},
   "source": [
    "We can now visualize the data using different kinds of plots. Now we will use seaborn boxplot to display the temperature forcasting data."
   ]
  },
  {
   "cell_type": "code",
   "execution_count": 12,
   "metadata": {},
   "outputs": [
    {
     "data": {
      "image/png": "[encoded data removed]",
      "text/plain": [
       "<matplotlib.figure.Figure at 0x7f8cd2949d90>"
      ]
     },
     "metadata": {},
     "output_type": "display_data"
    }
   ],
   "source": [
    "sns.set_style(\"darkgrid\")\n",
    "fig, ax = plt.subplots(figsize=(10, 7))\n",
    "fig = sns.boxplot(data=weather, ax=ax, orient='h')\n",
    "fig.set_title('Temperature Range')\n",
    "fig.set_xlabel('Temp (Fahrenheit)')\n",
    "fig.set_ylabel('Cities')\n",
    "plt.show()"
   ]
  },
  {
   "cell_type": "markdown",
   "metadata": {},
   "source": [
    "<a name=\"Conclusion\"></a>\n",
    "## Conclusion"
   ]
  },
  {
   "cell_type": "markdown",
   "metadata": {},
   "source": [
    "In this post, we have scraped weather forcasting data of different US cities. Finally, we preprocessed and visualized it. To get more information on Scraping, please go to the links given in the reference section."
   ]
  },
  {
   "cell_type": "markdown",
   "metadata": {},
   "source": [
    "<a name=\"References\"></a>\n",
    "## References\n",
    "\n",
    "* [Web Scraping using BeautifulSoup](https://www.dataquest.io/blog/web-scraping-tutorial-python/)\n",
    "* [Extracting Web Data using Python API](https://www.dataquest.io/blog/python-api-tutorial/)\n",
    "* [Web Scraping Job Postings from Indeed](https://medium.com/@msalmon00/web-scraping-job-postings-from-indeed-96bd588dcb4b)\n",
    "* [Scraping For Data — A Practical Guide](https://medium.com/k-folds/scraping-for-data-a-practical-guide-67cc397450b2)"
   ]
  }
 ],
 "metadata": {
  "kernelspec": {
   "display_name": "Python 2",
   "language": "python",
   "name": "python2"
  },
  "language_info": {
   "codemirror_mode": {
    "name": "ipython",
    "version": 2
   },
   "file_extension": ".py",
   "mimetype": "text/x-python",
   "name": "python",
   "nbconvert_exporter": "python",
   "pygments_lexer": "ipython2",
   "version": "2.7.13"
  }
 },
 "nbformat": 4,
 "nbformat_minor": 2
}
